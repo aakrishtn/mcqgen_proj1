{
 "cells": [
  {
   "cell_type": "code",
   "execution_count": 2,
   "id": "50047c87",
   "metadata": {},
   "outputs": [],
   "source": [
    "import os\n",
    "import json\n",
    "import pandas as pd\n",
    "import traceback\n"
   ]
  },
  {
   "cell_type": "code",
   "execution_count": 4,
   "id": "217ef00b",
   "metadata": {},
   "outputs": [],
   "source": [
    "import os\n",
    "api_key = os.getenv(\"OPENAI_API_KEY\")"
   ]
  },
  {
   "cell_type": "code",
   "execution_count": 5,
   "id": "696d3bee",
   "metadata": {},
   "outputs": [
    {
     "name": "stderr",
     "output_type": "stream",
     "text": [
      "C:\\Users\\aakri\\AppData\\Local\\Temp\\ipykernel_26536\\3460240618.py:3: LangChainDeprecationWarning: The class `ChatOpenAI` was deprecated in LangChain 0.0.10 and will be removed in 1.0. An updated version of the class exists in the langchain-openai package and should be used instead. To use it run `pip install -U langchain-openai` and import as `from langchain_openai import ChatOpenAI`.\n",
      "  llm = ChatOpenAI(openai_api_key = api_key, model_name = \"gpt-4o\", temperature = 0.5)\n"
     ]
    }
   ],
   "source": [
    "import openai\n",
    "from langchain.chat_models import ChatOpenAI\n",
    "llm = ChatOpenAI(openai_api_key = api_key, model_name = \"gpt-4o\", temperature = 0.5)\n",
    "# higher the value temperature, more creative is the model"
   ]
  },
  {
   "cell_type": "code",
   "execution_count": 6,
   "id": "86ff6bb7",
   "metadata": {},
   "outputs": [],
   "source": [
    "from langchain.llms import OpenAI\n",
    "from langchain.prompts import PromptTemplate\n",
    "from langchain.chains import LLMChain\n",
    "from langchain.chains import SequentialChain\n",
    "from langchain.callbacks import get_openai_callback\n",
    "import PyPDF2"
   ]
  },
  {
   "cell_type": "code",
   "execution_count": 7,
   "id": "31e73580",
   "metadata": {},
   "outputs": [],
   "source": [
    "TEMPLATE=\"\"\"\n",
    "Text:{text}\n",
    "You are an expert MCQ maker. Given the above text, it is your job to \\\n",
    "create a quiz  of {number} multiple choice questions for {subject} students in {tone} tone. \n",
    "Make sure the questions are not repeated and check all the questions to be conforming the text as well.\n",
    "Make sure to format your response like  RESPONSE_JSON below  and use it as a guide. \\\n",
    "Ensure to make {number} MCQs\n",
    "### RESPONSE_JSON\n",
    "{response_json}\n",
    "\"\"\""
   ]
  },
  {
   "cell_type": "code",
   "execution_count": 8,
   "id": "3581286d",
   "metadata": {},
   "outputs": [],
   "source": [
    "RESPONSE_JSON = {\n",
    "    \"1\": {\n",
    "        \"mcq\": \"multiple choice question\",\n",
    "        \"options\": {\n",
    "            \"a\": \"choice here\",\n",
    "            \"b\": \"choice here\",\n",
    "            \"c\": \"choice here\",\n",
    "            \"d\": \"choice here\",\n",
    "        },\n",
    "        \"correct\": \"correct answer\",\n",
    "    },\n",
    "    \"2\": {\n",
    "        \"mcq\": \"multiple choice question\",\n",
    "        \"options\": {\n",
    "            \"a\": \"choice here\",\n",
    "            \"b\": \"choice here\",\n",
    "            \"c\": \"choice here\",\n",
    "            \"d\": \"choice here\",\n",
    "        },\n",
    "        \"correct\": \"correct answer\",\n",
    "    },\n",
    "    \"3\": {\n",
    "        \"mcq\": \"multiple choice question\",\n",
    "        \"options\": {\n",
    "            \"a\": \"choice here\",\n",
    "            \"b\": \"choice here\",\n",
    "            \"c\": \"choice here\",\n",
    "            \"d\": \"choice here\",\n",
    "        },\n",
    "        \"correct\": \"correct answer\",\n",
    "    },\n",
    "}"
   ]
  },
  {
   "cell_type": "code",
   "execution_count": 9,
   "id": "cd8d44e9",
   "metadata": {},
   "outputs": [],
   "source": [
    "quiz_generation_prompt = PromptTemplate(\n",
    "    input_variables = [\"text\", \"number\", \"subject\", \"tone\", \"response_json\"],\n",
    "    template = TEMPLATE\n",
    ")"
   ]
  },
  {
   "cell_type": "code",
   "execution_count": 10,
   "id": "d8cd85b4",
   "metadata": {},
   "outputs": [
    {
     "name": "stderr",
     "output_type": "stream",
     "text": [
      "C:\\Users\\aakri\\AppData\\Local\\Temp\\ipykernel_26536\\4090386649.py:1: LangChainDeprecationWarning: The class `LLMChain` was deprecated in LangChain 0.1.17 and will be removed in 1.0. Use RunnableSequence, e.g., `prompt | llm` instead.\n",
      "  quiz_chain = LLMChain(llm=llm,prompt=quiz_generation_prompt,output_key=\"quiz\",verbose=True)\n"
     ]
    }
   ],
   "source": [
    "quiz_chain = LLMChain(llm=llm,prompt=quiz_generation_prompt,output_key=\"quiz\",verbose=True)"
   ]
  },
  {
   "cell_type": "code",
   "execution_count": 11,
   "id": "1308addc",
   "metadata": {},
   "outputs": [],
   "source": [
    "TEMPLATE2=\"\"\"\n",
    "You are an expert english grammarian and writer. Given a Multiple Choice Quiz for {subject} students.\\\n",
    "You need to evaluate the complexity of the question and give a complete analysis of the quiz. Only use at max 50 words for complexity analysis. \n",
    "if the quiz is not at per with the cognitive and analytical abilities of the students,\\\n",
    "update the quiz questions which needs to be changed and change the tone such that it perfectly fits the student abilities\n",
    "Quiz_MCQs:\n",
    "{quiz}\n",
    "\n",
    "Check from an expert English Writer of the above quiz:\n",
    "\"\"\""
   ]
  },
  {
   "cell_type": "code",
   "execution_count": 12,
   "id": "a88456e1",
   "metadata": {},
   "outputs": [],
   "source": [
    "quiz_evaluation_prompt = PromptTemplate(\n",
    "    input_variables = [\"subject\", \"quiz\"], template = TEMPLATE\n",
    ")"
   ]
  },
  {
   "cell_type": "code",
   "execution_count": 13,
   "id": "da189c55",
   "metadata": {},
   "outputs": [],
   "source": [
    "review_chain = LLMChain(llm=llm, prompt = quiz_evaluation_prompt, output_key = \"review\", verbose = True)"
   ]
  },
  {
   "cell_type": "code",
   "execution_count": 14,
   "id": "4701cda7",
   "metadata": {},
   "outputs": [],
   "source": [
    "## Now, we'll connect our quiz chain and our review chain"
   ]
  },
  {
   "cell_type": "code",
   "execution_count": 15,
   "id": "0c0f07ec",
   "metadata": {},
   "outputs": [],
   "source": [
    "generate_evaluate_chain = SequentialChain(chains = [quiz_chain, review_chain], input_variables = [\"text\", \"number\", \"subject\", \"tone\", \"response_json\"], output_variables = [\"quiz\",\"review\"], verbose = True )"
   ]
  },
  {
   "cell_type": "code",
   "execution_count": 16,
   "id": "2e7af2f0",
   "metadata": {},
   "outputs": [],
   "source": [
    "file_path = r\"C:\\Users\\aakri\\mcqgen_proj1\\data.txt\""
   ]
  },
  {
   "cell_type": "code",
   "execution_count": 17,
   "id": "37f83f57",
   "metadata": {},
   "outputs": [],
   "source": [
    "with open(file_path, 'r') as file:\n",
    "    text = file.read()"
   ]
  },
  {
   "cell_type": "code",
   "execution_count": 23,
   "id": "86eddfe5",
   "metadata": {},
   "outputs": [
    {
     "data": {
      "text/plain": [
       "'{\"1\": {\"mcq\": \"multiple choice question\", \"options\": {\"a\": \"choice here\", \"b\": \"choice here\", \"c\": \"choice here\", \"d\": \"choice here\"}, \"correct\": \"correct answer\"}, \"2\": {\"mcq\": \"multiple choice question\", \"options\": {\"a\": \"choice here\", \"b\": \"choice here\", \"c\": \"choice here\", \"d\": \"choice here\"}, \"correct\": \"correct answer\"}, \"3\": {\"mcq\": \"multiple choice question\", \"options\": {\"a\": \"choice here\", \"b\": \"choice here\", \"c\": \"choice here\", \"d\": \"choice here\"}, \"correct\": \"correct answer\"}}'"
      ]
     },
     "execution_count": 23,
     "metadata": {},
     "output_type": "execute_result"
    }
   ],
   "source": [
    "import json\n",
    "json.dumps(RESPONSE_JSON)\n",
    "\n",
    "#to convert python dict to json string"
   ]
  },
  {
   "cell_type": "code",
   "execution_count": 24,
   "id": "9f1d0a04",
   "metadata": {},
   "outputs": [],
   "source": [
    "number = 5\n",
    "subject = \"HVAC\"\n",
    "tone = \"simple\""
   ]
  },
  {
   "cell_type": "code",
   "execution_count": 19,
   "id": "c1a11262",
   "metadata": {},
   "outputs": [
    {
     "name": "stderr",
     "output_type": "stream",
     "text": [
      "C:\\Users\\aakri\\AppData\\Local\\Temp\\ipykernel_26536\\1632088049.py:4: LangChainDeprecationWarning: The method `Chain.__call__` was deprecated in langchain 0.1.0 and will be removed in 1.0. Use invoke instead.\n",
      "  response = generate_evaluate_chain(\n",
      "Error in StdOutCallbackHandler.on_chain_start callback: AttributeError(\"'NoneType' object has no attribute 'get'\")\n",
      "Error in StdOutCallbackHandler.on_chain_start callback: AttributeError(\"'NoneType' object has no attribute 'get'\")\n"
     ]
    },
    {
     "name": "stdout",
     "output_type": "stream",
     "text": [
      "Prompt after formatting:\n",
      "\u001b[32;1m\u001b[1;3m\n",
      "Text:Heating, ventilation, and air conditioning (HVAC /ˈeɪtʃˌvæk/) is the use of various technologies to control the temperature, humidity, and purity of the air in an enclosed space. Its goal is to provide thermal comfort and acceptable indoor air quality. HVAC system design is a subdiscipline of mechanical engineering, based on the principles of thermodynamics, fluid mechanics, and heat transfer. \"Refrigeration\" is sometimes added to the field's abbreviation as HVAC&R or HVACR, or \"ventilation\" is dropped, as in HACR (as in the designation of HACR-rated circuit breakers).\n",
      "\n",
      "HVAC is an important part of residential structures such as single family homes, apartment buildings, hotels, and senior living facilities; medium to large industrial and office buildings such as skyscrapers and hospitals; vehicles such as cars, trains, airplanes, ships and submarines; and in marine environments, where safe and healthy building conditions are regulated with respect to temperature and humidity, using fresh air from outdoors.\n",
      "\n",
      "Ventilating or ventilation (the \"V\" in HVAC) is the process of exchanging or replacing air in any space to provide high indoor air quality which involves temperature control, oxygen replenishment, and removal of moisture, odors, smoke, heat, dust, airborne bacteria, carbon dioxide, and other gases. Ventilation removes unpleasant smells and excessive moisture, introduces outside air, and keeps interior air circulating. Building ventilation methods are categorized as mechanical (forced) or natural.\n",
      "You are an expert MCQ maker. Given the above text, it is your job to create a quiz  of 5 multiple choice questions for HVAC students in simple tone. \n",
      "Make sure the questions are not repeated and check all the questions to be conforming the text as well.\n",
      "Make sure to format your response like  RESPONSE_JSON below  and use it as a guide. Ensure to make 5 MCQs\n",
      "### RESPONSE_JSON\n",
      "{\"1\": {\"mcq\": \"multiple choice question\", \"options\": {\"a\": \"choice here\", \"b\": \"choice here\", \"c\": \"choice here\", \"d\": \"choice here\"}, \"correct\": \"correct answer\"}, \"2\": {\"mcq\": \"multiple choice question\", \"options\": {\"a\": \"choice here\", \"b\": \"choice here\", \"c\": \"choice here\", \"d\": \"choice here\"}, \"correct\": \"correct answer\"}, \"3\": {\"mcq\": \"multiple choice question\", \"options\": {\"a\": \"choice here\", \"b\": \"choice here\", \"c\": \"choice here\", \"d\": \"choice here\"}, \"correct\": \"correct answer\"}}\n",
      "\u001b[0m\n"
     ]
    },
    {
     "name": "stderr",
     "output_type": "stream",
     "text": [
      "Error in StdOutCallbackHandler.on_chain_start callback: AttributeError(\"'NoneType' object has no attribute 'get'\")\n"
     ]
    },
    {
     "name": "stdout",
     "output_type": "stream",
     "text": [
      "\n",
      "\u001b[1m> Finished chain.\u001b[0m\n",
      "Prompt after formatting:\n",
      "\u001b[32;1m\u001b[1;3m\n",
      "Text:Heating, ventilation, and air conditioning (HVAC /ˈeɪtʃˌvæk/) is the use of various technologies to control the temperature, humidity, and purity of the air in an enclosed space. Its goal is to provide thermal comfort and acceptable indoor air quality. HVAC system design is a subdiscipline of mechanical engineering, based on the principles of thermodynamics, fluid mechanics, and heat transfer. \"Refrigeration\" is sometimes added to the field's abbreviation as HVAC&R or HVACR, or \"ventilation\" is dropped, as in HACR (as in the designation of HACR-rated circuit breakers).\n",
      "\n",
      "HVAC is an important part of residential structures such as single family homes, apartment buildings, hotels, and senior living facilities; medium to large industrial and office buildings such as skyscrapers and hospitals; vehicles such as cars, trains, airplanes, ships and submarines; and in marine environments, where safe and healthy building conditions are regulated with respect to temperature and humidity, using fresh air from outdoors.\n",
      "\n",
      "Ventilating or ventilation (the \"V\" in HVAC) is the process of exchanging or replacing air in any space to provide high indoor air quality which involves temperature control, oxygen replenishment, and removal of moisture, odors, smoke, heat, dust, airborne bacteria, carbon dioxide, and other gases. Ventilation removes unpleasant smells and excessive moisture, introduces outside air, and keeps interior air circulating. Building ventilation methods are categorized as mechanical (forced) or natural.\n",
      "You are an expert MCQ maker. Given the above text, it is your job to create a quiz  of 5 multiple choice questions for HVAC students in simple tone. \n",
      "Make sure the questions are not repeated and check all the questions to be conforming the text as well.\n",
      "Make sure to format your response like  RESPONSE_JSON below  and use it as a guide. Ensure to make 5 MCQs\n",
      "### RESPONSE_JSON\n",
      "{\"1\": {\"mcq\": \"multiple choice question\", \"options\": {\"a\": \"choice here\", \"b\": \"choice here\", \"c\": \"choice here\", \"d\": \"choice here\"}, \"correct\": \"correct answer\"}, \"2\": {\"mcq\": \"multiple choice question\", \"options\": {\"a\": \"choice here\", \"b\": \"choice here\", \"c\": \"choice here\", \"d\": \"choice here\"}, \"correct\": \"correct answer\"}, \"3\": {\"mcq\": \"multiple choice question\", \"options\": {\"a\": \"choice here\", \"b\": \"choice here\", \"c\": \"choice here\", \"d\": \"choice here\"}, \"correct\": \"correct answer\"}}\n",
      "\u001b[0m\n",
      "\n",
      "\u001b[1m> Finished chain.\u001b[0m\n",
      "\n",
      "\u001b[1m> Finished chain.\u001b[0m\n"
     ]
    }
   ],
   "source": [
    "# setting up token-usage-tracking\n",
    "\n",
    "with get_openai_callback() as cb:\n",
    "    response = generate_evaluate_chain(\n",
    "        {\n",
    "            \"text\" : text,\n",
    "            \"number\" : number,\n",
    "            \"subject\" : subject,\n",
    "            \"tone\" : tone,\n",
    "            \"response_json\" : json.dumps(RESPONSE_JSON)\n",
    "        }\n",
    "    )"
   ]
  },
  {
   "cell_type": "code",
   "execution_count": 37,
   "id": "328d4b07",
   "metadata": {},
   "outputs": [
    {
     "name": "stdout",
     "output_type": "stream",
     "text": [
      "Total Tokens:1814\n",
      "Prompt Tokens:1106\n",
      "Completion Tokens:708\n",
      "Total Cost:0.01615\n"
     ]
    }
   ],
   "source": [
    "print(f\"Total Tokens:{cb.total_tokens}\")\n",
    "print(f\"Prompt Tokens:{cb.prompt_tokens}\")\n",
    "print(f\"Completion Tokens:{cb.completion_tokens}\")\n",
    "print(f\"Total Cost:{cb.total_cost}\")"
   ]
  },
  {
   "cell_type": "code",
   "execution_count": 26,
   "id": "59150207",
   "metadata": {},
   "outputs": [
    {
     "data": {
      "text/plain": [
       "{'text': 'Heating, ventilation, and air conditioning (HVAC /ˈeɪtʃˌvæk/) is the use of various technologies to control the temperature, humidity, and purity of the air in an enclosed space. Its goal is to provide thermal comfort and acceptable indoor air quality. HVAC system design is a subdiscipline of mechanical engineering, based on the principles of thermodynamics, fluid mechanics, and heat transfer. \"Refrigeration\" is sometimes added to the field\\'s abbreviation as HVAC&R or HVACR, or \"ventilation\" is dropped, as in HACR (as in the designation of HACR-rated circuit breakers).\\n\\nHVAC is an important part of residential structures such as single family homes, apartment buildings, hotels, and senior living facilities; medium to large industrial and office buildings such as skyscrapers and hospitals; vehicles such as cars, trains, airplanes, ships and submarines; and in marine environments, where safe and healthy building conditions are regulated with respect to temperature and humidity, using fresh air from outdoors.\\n\\nVentilating or ventilation (the \"V\" in HVAC) is the process of exchanging or replacing air in any space to provide high indoor air quality which involves temperature control, oxygen replenishment, and removal of moisture, odors, smoke, heat, dust, airborne bacteria, carbon dioxide, and other gases. Ventilation removes unpleasant smells and excessive moisture, introduces outside air, and keeps interior air circulating. Building ventilation methods are categorized as mechanical (forced) or natural.',\n",
       " 'number': 5,\n",
       " 'subject': 'HVAC',\n",
       " 'tone': 'simple',\n",
       " 'response_json': '{\"1\": {\"mcq\": \"multiple choice question\", \"options\": {\"a\": \"choice here\", \"b\": \"choice here\", \"c\": \"choice here\", \"d\": \"choice here\"}, \"correct\": \"correct answer\"}, \"2\": {\"mcq\": \"multiple choice question\", \"options\": {\"a\": \"choice here\", \"b\": \"choice here\", \"c\": \"choice here\", \"d\": \"choice here\"}, \"correct\": \"correct answer\"}, \"3\": {\"mcq\": \"multiple choice question\", \"options\": {\"a\": \"choice here\", \"b\": \"choice here\", \"c\": \"choice here\", \"d\": \"choice here\"}, \"correct\": \"correct answer\"}}',\n",
       " 'quiz': '```json\\n{\\n  \"1\": {\\n    \"mcq\": \"What does HVAC stand for?\",\\n    \"options\": {\\n      \"a\": \"Heating, Ventilation, and Air Conditioning\",\\n      \"b\": \"Heating, Ventilation, and Cooling\",\\n      \"c\": \"Heat, Vacuum, and Air Conditioning\",\\n      \"d\": \"Heat, Ventilation, and Air Circulation\"\\n    },\\n    \"correct\": \"a\"\\n  },\\n  \"2\": {\\n    \"mcq\": \"Which field of engineering is HVAC system design a subdiscipline of?\",\\n    \"options\": {\\n      \"a\": \"Civil Engineering\",\\n      \"b\": \"Electrical Engineering\",\\n      \"c\": \"Mechanical Engineering\",\\n      \"d\": \"Chemical Engineering\"\\n    },\\n    \"correct\": \"c\"\\n  },\\n  \"3\": {\\n    \"mcq\": \"In which environments is HVAC important?\",\\n    \"options\": {\\n      \"a\": \"Residential structures\",\\n      \"b\": \"Industrial buildings\",\\n      \"c\": \"Vehicles and marine environments\",\\n      \"d\": \"All of the above\"\\n    },\\n    \"correct\": \"d\"\\n  },\\n  \"4\": {\\n    \"mcq\": \"What is the main purpose of ventilation in an HVAC system?\",\\n    \"options\": {\\n      \"a\": \"To increase indoor temperature\",\\n      \"b\": \"To provide high indoor air quality\",\\n      \"c\": \"To reduce noise levels\",\\n      \"d\": \"To enhance building aesthetics\"\\n    },\\n    \"correct\": \"b\"\\n  },\\n  \"5\": {\\n    \"mcq\": \"What are the two categories of building ventilation methods?\",\\n    \"options\": {\\n      \"a\": \"Natural and artificial\",\\n      \"b\": \"Mechanical and forced\",\\n      \"c\": \"Mechanical (forced) and natural\",\\n      \"d\": \"Natural and organic\"\\n    },\\n    \"correct\": \"c\"\\n  }\\n}\\n```',\n",
       " 'review': '{\"1\": {\"mcq\": \"What does HVAC stand for?\", \"options\": {\"a\": \"Heating, Ventilation, and Air Conditioning\", \"b\": \"Heating, Vacuum, and Air Circulation\", \"c\": \"Heating, Ventilation, and Air Circulation\", \"d\": \"Heating, Vacuum, and Air Conditioning\"}, \"correct\": \"a\"}, \"2\": {\"mcq\": \"Which of the following is sometimes added to the HVAC abbreviation?\", \"options\": {\"a\": \"Refrigeration\", \"b\": \"Radiation\", \"c\": \"Reduction\", \"d\": \"Regulation\"}, \"correct\": \"a\"}, \"3\": {\"mcq\": \"What is the main goal of an HVAC system?\", \"options\": {\"a\": \"To increase energy consumption\", \"b\": \"To provide thermal comfort and acceptable indoor air quality\", \"c\": \"To reduce noise pollution\", \"d\": \"To decrease outdoor air quality\"}, \"correct\": \"b\"}, \"4\": {\"mcq\": \"Which of the following is NOT a part of the HVAC system design?\", \"options\": {\"a\": \"Thermodynamics\", \"b\": \"Fluid mechanics\", \"c\": \"Quantum physics\", \"d\": \"Heat transfer\"}, \"correct\": \"c\"}, \"5\": {\"mcq\": \"What does the \\'V\\' in HVAC represent?\", \"options\": {\"a\": \"Vacuum\", \"b\": \"Ventilation\", \"c\": \"Velocity\", \"d\": \"Volume\"}, \"correct\": \"b\"}}'}"
      ]
     },
     "execution_count": 26,
     "metadata": {},
     "output_type": "execute_result"
    }
   ],
   "source": [
    "response"
   ]
  },
  {
   "cell_type": "code",
   "execution_count": 39,
   "id": "339f4d1e",
   "metadata": {},
   "outputs": [
    {
     "data": {
      "text/plain": [
       "'```json\\n{\\n  \"1\": {\\n    \"mcq\": \"What does HVAC stand for?\",\\n    \"options\": {\\n      \"a\": \"Heating, Ventilation, and Air Conditioning\",\\n      \"b\": \"Heating, Ventilation, and Cooling\",\\n      \"c\": \"Heat, Vacuum, and Air Conditioning\",\\n      \"d\": \"Heat, Ventilation, and Air Circulation\"\\n    },\\n    \"correct\": \"a\"\\n  },\\n  \"2\": {\\n    \"mcq\": \"Which field of engineering is HVAC system design a subdiscipline of?\",\\n    \"options\": {\\n      \"a\": \"Civil Engineering\",\\n      \"b\": \"Electrical Engineering\",\\n      \"c\": \"Mechanical Engineering\",\\n      \"d\": \"Chemical Engineering\"\\n    },\\n    \"correct\": \"c\"\\n  },\\n  \"3\": {\\n    \"mcq\": \"In which environments is HVAC important?\",\\n    \"options\": {\\n      \"a\": \"Residential structures\",\\n      \"b\": \"Industrial buildings\",\\n      \"c\": \"Vehicles and marine environments\",\\n      \"d\": \"All of the above\"\\n    },\\n    \"correct\": \"d\"\\n  },\\n  \"4\": {\\n    \"mcq\": \"What is the main purpose of ventilation in an HVAC system?\",\\n    \"options\": {\\n      \"a\": \"To increase indoor temperature\",\\n      \"b\": \"To provide high indoor air quality\",\\n      \"c\": \"To reduce noise levels\",\\n      \"d\": \"To enhance building aesthetics\"\\n    },\\n    \"correct\": \"b\"\\n  },\\n  \"5\": {\\n    \"mcq\": \"What are the two categories of building ventilation methods?\",\\n    \"options\": {\\n      \"a\": \"Natural and artificial\",\\n      \"b\": \"Mechanical and forced\",\\n      \"c\": \"Mechanical (forced) and natural\",\\n      \"d\": \"Natural and organic\"\\n    },\\n    \"correct\": \"c\"\\n  }\\n}\\n```'"
      ]
     },
     "execution_count": 39,
     "metadata": {},
     "output_type": "execute_result"
    }
   ],
   "source": [
    "quiz"
   ]
  },
  {
   "cell_type": "code",
   "execution_count": 38,
   "id": "91156402",
   "metadata": {},
   "outputs": [],
   "source": [
    "quiz=response.get(\"quiz\")"
   ]
  },
  {
   "cell_type": "code",
   "execution_count": 40,
   "id": "02ca5216",
   "metadata": {},
   "outputs": [],
   "source": [
    "quiz = quiz.strip()\n",
    "\n",
    "# Remove Markdown code block if present\n",
    "if quiz.startswith(\"```json\"):\n",
    "    quiz = quiz[7:]  # remove the ```json\n",
    "if quiz.endswith(\"```\"):\n",
    "    quiz = quiz[:-3]  # remove the trailing ```\n",
    "\n"
   ]
  },
  {
   "cell_type": "code",
   "execution_count": 41,
   "id": "e506a445",
   "metadata": {},
   "outputs": [
    {
     "data": {
      "text/plain": [
       "'\\n{\\n  \"1\": {\\n    \"mcq\": \"What does HVAC stand for?\",\\n    \"options\": {\\n      \"a\": \"Heating, Ventilation, and Air Conditioning\",\\n      \"b\": \"Heating, Ventilation, and Cooling\",\\n      \"c\": \"Heat, Vacuum, and Air Conditioning\",\\n      \"d\": \"Heat, Ventilation, and Air Circulation\"\\n    },\\n    \"correct\": \"a\"\\n  },\\n  \"2\": {\\n    \"mcq\": \"Which field of engineering is HVAC system design a subdiscipline of?\",\\n    \"options\": {\\n      \"a\": \"Civil Engineering\",\\n      \"b\": \"Electrical Engineering\",\\n      \"c\": \"Mechanical Engineering\",\\n      \"d\": \"Chemical Engineering\"\\n    },\\n    \"correct\": \"c\"\\n  },\\n  \"3\": {\\n    \"mcq\": \"In which environments is HVAC important?\",\\n    \"options\": {\\n      \"a\": \"Residential structures\",\\n      \"b\": \"Industrial buildings\",\\n      \"c\": \"Vehicles and marine environments\",\\n      \"d\": \"All of the above\"\\n    },\\n    \"correct\": \"d\"\\n  },\\n  \"4\": {\\n    \"mcq\": \"What is the main purpose of ventilation in an HVAC system?\",\\n    \"options\": {\\n      \"a\": \"To increase indoor temperature\",\\n      \"b\": \"To provide high indoor air quality\",\\n      \"c\": \"To reduce noise levels\",\\n      \"d\": \"To enhance building aesthetics\"\\n    },\\n    \"correct\": \"b\"\\n  },\\n  \"5\": {\\n    \"mcq\": \"What are the two categories of building ventilation methods?\",\\n    \"options\": {\\n      \"a\": \"Natural and artificial\",\\n      \"b\": \"Mechanical and forced\",\\n      \"c\": \"Mechanical (forced) and natural\",\\n      \"d\": \"Natural and organic\"\\n    },\\n    \"correct\": \"c\"\\n  }\\n}\\n'"
      ]
     },
     "execution_count": 41,
     "metadata": {},
     "output_type": "execute_result"
    }
   ],
   "source": [
    "quiz"
   ]
  },
  {
   "cell_type": "code",
   "execution_count": 42,
   "id": "410d68c9",
   "metadata": {},
   "outputs": [],
   "source": [
    "quiz = response.get(\"quiz\")"
   ]
  },
  {
   "cell_type": "code",
   "execution_count": 44,
   "id": "b079ecd9",
   "metadata": {},
   "outputs": [],
   "source": [
    "import json\n",
    "import re\n",
    "\n",
    "# Strip ```json and ``` from the start and end\n",
    "clean_quiz = re.sub(r'^```json\\s*|\\s*```$', '', quiz.strip())\n",
    "\n",
    "# Now parse it as JSON\n",
    "quiz_dict = json.loads(clean_quiz)\n"
   ]
  },
  {
   "cell_type": "code",
   "execution_count": 47,
   "id": "846ef8f5",
   "metadata": {},
   "outputs": [],
   "source": [
    "quiz_table_data = []\n",
    "for key,value in quiz_dict.items():\n",
    "    mcq=value[\"mcq\"]\n",
    "    options = \" | \".join(\n",
    "        [\n",
    "            f\"{option} : {option_value}\"\n",
    "            for option, option_value in value[\"options\"].items()\n",
    "        ]\n",
    "    )\n",
    "    correct = value[\"correct\"]\n",
    "    quiz_table_data.append(\n",
    "        {\n",
    "            \"MCQ\": mcq,\n",
    "            \"Options\": options,\n",
    "            \"Correct\": correct\n",
    "        }\n",
    "    )"
   ]
  },
  {
   "cell_type": "code",
   "execution_count": 48,
   "id": "639b88fd",
   "metadata": {},
   "outputs": [
    {
     "data": {
      "text/plain": [
       "[{'MCQ': 'What does HVAC stand for?',\n",
       "  'Options': 'a : Heating, Ventilation, and Air Conditioning | b : Heating, Ventilation, and Cooling | c : Heat, Vacuum, and Air Conditioning | d : Heat, Ventilation, and Air Circulation',\n",
       "  'Correct': 'a'},\n",
       " {'MCQ': 'Which field of engineering is HVAC system design a subdiscipline of?',\n",
       "  'Options': 'a : Civil Engineering | b : Electrical Engineering | c : Mechanical Engineering | d : Chemical Engineering',\n",
       "  'Correct': 'c'},\n",
       " {'MCQ': 'In which environments is HVAC important?',\n",
       "  'Options': 'a : Residential structures | b : Industrial buildings | c : Vehicles and marine environments | d : All of the above',\n",
       "  'Correct': 'd'},\n",
       " {'MCQ': 'What is the main purpose of ventilation in an HVAC system?',\n",
       "  'Options': 'a : To increase indoor temperature | b : To provide high indoor air quality | c : To reduce noise levels | d : To enhance building aesthetics',\n",
       "  'Correct': 'b'},\n",
       " {'MCQ': 'What are the two categories of building ventilation methods?',\n",
       "  'Options': 'a : Natural and artificial | b : Mechanical and forced | c : Mechanical (forced) and natural | d : Natural and organic',\n",
       "  'Correct': 'c'}]"
      ]
     },
     "execution_count": 48,
     "metadata": {},
     "output_type": "execute_result"
    }
   ],
   "source": [
    "quiz_table_data"
   ]
  },
  {
   "cell_type": "code",
   "execution_count": 50,
   "id": "3742753b",
   "metadata": {},
   "outputs": [],
   "source": [
    "quiz=pd.DataFrame(quiz_table_data)"
   ]
  },
  {
   "cell_type": "code",
   "execution_count": 51,
   "id": "3ee0a01e",
   "metadata": {},
   "outputs": [],
   "source": [
    "quiz.to_csv(\"HVAC.csv\", index=False)"
   ]
  },
  {
   "cell_type": "code",
   "execution_count": 52,
   "id": "e47cb990",
   "metadata": {},
   "outputs": [
    {
     "data": {
      "text/html": [
       "<div>\n",
       "<style scoped>\n",
       "    .dataframe tbody tr th:only-of-type {\n",
       "        vertical-align: middle;\n",
       "    }\n",
       "\n",
       "    .dataframe tbody tr th {\n",
       "        vertical-align: top;\n",
       "    }\n",
       "\n",
       "    .dataframe thead th {\n",
       "        text-align: right;\n",
       "    }\n",
       "</style>\n",
       "<table border=\"1\" class=\"dataframe\">\n",
       "  <thead>\n",
       "    <tr style=\"text-align: right;\">\n",
       "      <th></th>\n",
       "      <th>MCQ</th>\n",
       "      <th>Options</th>\n",
       "      <th>Correct</th>\n",
       "    </tr>\n",
       "  </thead>\n",
       "  <tbody>\n",
       "    <tr>\n",
       "      <th>0</th>\n",
       "      <td>What does HVAC stand for?</td>\n",
       "      <td>a : Heating, Ventilation, and Air Conditioning...</td>\n",
       "      <td>a</td>\n",
       "    </tr>\n",
       "    <tr>\n",
       "      <th>1</th>\n",
       "      <td>Which field of engineering is HVAC system desi...</td>\n",
       "      <td>a : Civil Engineering | b : Electrical Enginee...</td>\n",
       "      <td>c</td>\n",
       "    </tr>\n",
       "    <tr>\n",
       "      <th>2</th>\n",
       "      <td>In which environments is HVAC important?</td>\n",
       "      <td>a : Residential structures | b : Industrial bu...</td>\n",
       "      <td>d</td>\n",
       "    </tr>\n",
       "    <tr>\n",
       "      <th>3</th>\n",
       "      <td>What is the main purpose of ventilation in an ...</td>\n",
       "      <td>a : To increase indoor temperature | b : To pr...</td>\n",
       "      <td>b</td>\n",
       "    </tr>\n",
       "    <tr>\n",
       "      <th>4</th>\n",
       "      <td>What are the two categories of building ventil...</td>\n",
       "      <td>a : Natural and artificial | b : Mechanical an...</td>\n",
       "      <td>c</td>\n",
       "    </tr>\n",
       "  </tbody>\n",
       "</table>\n",
       "</div>"
      ],
      "text/plain": [
       "                                                 MCQ  \\\n",
       "0                          What does HVAC stand for?   \n",
       "1  Which field of engineering is HVAC system desi...   \n",
       "2           In which environments is HVAC important?   \n",
       "3  What is the main purpose of ventilation in an ...   \n",
       "4  What are the two categories of building ventil...   \n",
       "\n",
       "                                             Options Correct  \n",
       "0  a : Heating, Ventilation, and Air Conditioning...       a  \n",
       "1  a : Civil Engineering | b : Electrical Enginee...       c  \n",
       "2  a : Residential structures | b : Industrial bu...       d  \n",
       "3  a : To increase indoor temperature | b : To pr...       b  \n",
       "4  a : Natural and artificial | b : Mechanical an...       c  "
      ]
     },
     "execution_count": 52,
     "metadata": {},
     "output_type": "execute_result"
    }
   ],
   "source": [
    "pd.DataFrame(quiz_table_data)"
   ]
  },
  {
   "cell_type": "code",
   "execution_count": null,
   "id": "c1df5b5b",
   "metadata": {},
   "outputs": [],
   "source": []
  }
 ],
 "metadata": {
  "kernelspec": {
   "display_name": "Python 3",
   "language": "python",
   "name": "python3"
  },
  "language_info": {
   "codemirror_mode": {
    "name": "ipython",
    "version": 3
   },
   "file_extension": ".py",
   "mimetype": "text/x-python",
   "name": "python",
   "nbconvert_exporter": "python",
   "pygments_lexer": "ipython3",
   "version": "3.8.20"
  }
 },
 "nbformat": 4,
 "nbformat_minor": 5
}
