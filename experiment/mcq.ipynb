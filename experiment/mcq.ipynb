{
 "cells": [
  {
   "cell_type": "code",
   "execution_count": 36,
   "id": "50047c87",
   "metadata": {},
   "outputs": [],
   "source": [
    "import os\n",
    "import json\n",
    "import pandas as pd\n",
    "import traceback\n"
   ]
  },
  {
   "cell_type": "code",
   "execution_count": 37,
   "id": "217ef00b",
   "metadata": {},
   "outputs": [],
   "source": [
    "import os\n",
    "api_key = os.getenv(\"OPENAI_API_KEY\")"
   ]
  },
  {
   "cell_type": "code",
   "execution_count": 38,
   "id": "696d3bee",
   "metadata": {},
   "outputs": [],
   "source": [
    "import openai\n",
    "from langchain.chat_models import ChatOpenAI\n",
    "llm = ChatOpenAI(openai_api_key = api_key, model_name = \"gpt-4o\", temperature = 0.5)\n",
    "# higher the value temperature, more creative is the model"
   ]
  },
  {
   "cell_type": "code",
   "execution_count": 39,
   "id": "86ff6bb7",
   "metadata": {},
   "outputs": [],
   "source": [
    "from langchain.llms import OpenAI\n",
    "from langchain.prompts import PromptTemplate\n",
    "from langchain.chains import LLMChain\n",
    "from langchain.chains import SequentialChain\n",
    "from langchain.callbacks import get_openai_callback\n",
    "import PyPDF2"
   ]
  },
  {
   "cell_type": "code",
   "execution_count": 40,
   "id": "31e73580",
   "metadata": {},
   "outputs": [],
   "source": [
    "TEMPLATE=\"\"\"\n",
    "Text:{text}\n",
    "You are an expert MCQ maker. Given the above text, it is your job to \\\n",
    "create a quiz  of {number} multiple choice questions for {subject} students in {tone} tone. \n",
    "Make sure the questions are not repeated and check all the questions to be conforming the text as well.\n",
    "Make sure to format your response like  RESPONSE_JSON below  and use it as a guide. \\\n",
    "Ensure to make {number} MCQs\n",
    "### RESPONSE_JSON\n",
    "{response_json}\n",
    "\"\"\""
   ]
  },
  {
   "cell_type": "code",
   "execution_count": 41,
   "id": "3581286d",
   "metadata": {},
   "outputs": [],
   "source": [
    "RESPONSE_JSON = {\n",
    "    \"1\": {\n",
    "        \"mcq\": \"multiple choice question\",\n",
    "        \"options\": {\n",
    "            \"a\": \"choice here\",\n",
    "            \"b\": \"choice here\",\n",
    "            \"c\": \"choice here\",\n",
    "            \"d\": \"choice here\",\n",
    "        },\n",
    "        \"correct\": \"correct answer\",\n",
    "    },\n",
    "    \"2\": {\n",
    "        \"mcq\": \"multiple choice question\",\n",
    "        \"options\": {\n",
    "            \"a\": \"choice here\",\n",
    "            \"b\": \"choice here\",\n",
    "            \"c\": \"choice here\",\n",
    "            \"d\": \"choice here\",\n",
    "        },\n",
    "        \"correct\": \"correct answer\",\n",
    "    },\n",
    "    \"3\": {\n",
    "        \"mcq\": \"multiple choice question\",\n",
    "        \"options\": {\n",
    "            \"a\": \"choice here\",\n",
    "            \"b\": \"choice here\",\n",
    "            \"c\": \"choice here\",\n",
    "            \"d\": \"choice here\",\n",
    "        },\n",
    "        \"correct\": \"correct answer\",\n",
    "    },\n",
    "}"
   ]
  },
  {
   "cell_type": "code",
   "execution_count": 42,
   "id": "cd8d44e9",
   "metadata": {},
   "outputs": [],
   "source": [
    "quiz_generation_prompt = PromptTemplate(\n",
    "    input_variables = [\"text\", \"number\", \"subject\", \"tone\", \"response_json\"],\n",
    "    template = TEMPLATE\n",
    ")"
   ]
  },
  {
   "cell_type": "code",
   "execution_count": 43,
   "id": "d8cd85b4",
   "metadata": {},
   "outputs": [],
   "source": [
    "quiz_chain = LLMChain(llm=llm,prompt=quiz_generation_prompt,output_key=\"quiz\",verbose=True)"
   ]
  },
  {
   "cell_type": "code",
   "execution_count": 44,
   "id": "1308addc",
   "metadata": {},
   "outputs": [],
   "source": [
    "TEMPLATE2=\"\"\"\n",
    "You are an expert english grammarian and writer. Given a Multiple Choice Quiz for {subject} students.\\\n",
    "You need to evaluate the complexity of the question and give a complete analysis of the quiz. Only use at max 50 words for complexity analysis. \n",
    "if the quiz is not at per with the cognitive and analytical abilities of the students,\\\n",
    "update the quiz questions which needs to be changed and change the tone such that it perfectly fits the student abilities\n",
    "Quiz_MCQs:\n",
    "{quiz}\n",
    "\n",
    "Check from an expert English Writer of the above quiz:\n",
    "\"\"\""
   ]
  },
  {
   "cell_type": "code",
   "execution_count": 45,
   "id": "a88456e1",
   "metadata": {},
   "outputs": [],
   "source": [
    "quiz_evaluation_prompt = PromptTemplate(\n",
    "    input_variables = [\"subject\", \"quiz\"], template = TEMPLATE\n",
    ")"
   ]
  },
  {
   "cell_type": "code",
   "execution_count": 46,
   "id": "da189c55",
   "metadata": {},
   "outputs": [],
   "source": [
    "review_chain = LLMChain(llm=llm, prompt = quiz_evaluation_prompt, output_key = \"review\", verbose = True)"
   ]
  },
  {
   "cell_type": "code",
   "execution_count": 14,
   "id": "4701cda7",
   "metadata": {},
   "outputs": [],
   "source": [
    "## Now, we'll connect our quiz chain and our review chain"
   ]
  },
  {
   "cell_type": "code",
   "execution_count": 47,
   "id": "0c0f07ec",
   "metadata": {},
   "outputs": [],
   "source": [
    "generate_evaluate_chain = SequentialChain(chains = [quiz_chain, review_chain], input_variables = [\"text\", \"number\", \"subject\", \"tone\", \"response_json\"], output_variables = [\"quiz\",\"review\"], verbose = True )"
   ]
  },
  {
   "cell_type": "code",
   "execution_count": 48,
   "id": "2e7af2f0",
   "metadata": {},
   "outputs": [],
   "source": [
    "file_path = r\"C:\\Users\\aakri\\mcqgen_proj1\\data.txt\""
   ]
  },
  {
   "cell_type": "code",
   "execution_count": 49,
   "id": "37f83f57",
   "metadata": {},
   "outputs": [],
   "source": [
    "with open(file_path, 'r') as file:\n",
    "    text = file.read()"
   ]
  },
  {
   "cell_type": "code",
   "execution_count": 50,
   "id": "86eddfe5",
   "metadata": {},
   "outputs": [
    {
     "data": {
      "text/plain": [
       "'{\"1\": {\"mcq\": \"multiple choice question\", \"options\": {\"a\": \"choice here\", \"b\": \"choice here\", \"c\": \"choice here\", \"d\": \"choice here\"}, \"correct\": \"correct answer\"}, \"2\": {\"mcq\": \"multiple choice question\", \"options\": {\"a\": \"choice here\", \"b\": \"choice here\", \"c\": \"choice here\", \"d\": \"choice here\"}, \"correct\": \"correct answer\"}, \"3\": {\"mcq\": \"multiple choice question\", \"options\": {\"a\": \"choice here\", \"b\": \"choice here\", \"c\": \"choice here\", \"d\": \"choice here\"}, \"correct\": \"correct answer\"}}'"
      ]
     },
     "execution_count": 50,
     "metadata": {},
     "output_type": "execute_result"
    }
   ],
   "source": [
    "import json\n",
    "json.dumps(RESPONSE_JSON)\n",
    "\n",
    "#to convert python dict to json string"
   ]
  },
  {
   "cell_type": "code",
   "execution_count": 51,
   "id": "9f1d0a04",
   "metadata": {},
   "outputs": [],
   "source": [
    "number = 5\n",
    "subject = \"HVAC\"\n",
    "tone = \"simple\""
   ]
  },
  {
   "cell_type": "code",
   "execution_count": 52,
   "id": "c1a11262",
   "metadata": {},
   "outputs": [
    {
     "name": "stderr",
     "output_type": "stream",
     "text": [
      "Error in StdOutCallbackHandler.on_chain_start callback: AttributeError(\"'NoneType' object has no attribute 'get'\")\n",
      "Error in StdOutCallbackHandler.on_chain_start callback: AttributeError(\"'NoneType' object has no attribute 'get'\")\n"
     ]
    },
    {
     "name": "stdout",
     "output_type": "stream",
     "text": [
      "Prompt after formatting:\n",
      "\u001b[32;1m\u001b[1;3m\n",
      "Text:Heating, ventilation, and air conditioning (HVAC /ˈeɪtʃˌvæk/) is the use of various technologies to control the temperature, humidity, and purity of the air in an enclosed space. Its goal is to provide thermal comfort and acceptable indoor air quality. HVAC system design is a subdiscipline of mechanical engineering, based on the principles of thermodynamics, fluid mechanics, and heat transfer. \"Refrigeration\" is sometimes added to the field's abbreviation as HVAC&R or HVACR, or \"ventilation\" is dropped, as in HACR (as in the designation of HACR-rated circuit breakers).\n",
      "\n",
      "HVAC is an important part of residential structures such as single family homes, apartment buildings, hotels, and senior living facilities; medium to large industrial and office buildings such as skyscrapers and hospitals; vehicles such as cars, trains, airplanes, ships and submarines; and in marine environments, where safe and healthy building conditions are regulated with respect to temperature and humidity, using fresh air from outdoors.\n",
      "\n",
      "Ventilating or ventilation (the \"V\" in HVAC) is the process of exchanging or replacing air in any space to provide high indoor air quality which involves temperature control, oxygen replenishment, and removal of moisture, odors, smoke, heat, dust, airborne bacteria, carbon dioxide, and other gases. Ventilation removes unpleasant smells and excessive moisture, introduces outside air, and keeps interior air circulating. Building ventilation methods are categorized as mechanical (forced) or natural.\n",
      "You are an expert MCQ maker. Given the above text, it is your job to create a quiz  of 5 multiple choice questions for HVAC students in simple tone. \n",
      "Make sure the questions are not repeated and check all the questions to be conforming the text as well.\n",
      "Make sure to format your response like  RESPONSE_JSON below  and use it as a guide. Ensure to make 5 MCQs\n",
      "### RESPONSE_JSON\n",
      "{\"1\": {\"mcq\": \"multiple choice question\", \"options\": {\"a\": \"choice here\", \"b\": \"choice here\", \"c\": \"choice here\", \"d\": \"choice here\"}, \"correct\": \"correct answer\"}, \"2\": {\"mcq\": \"multiple choice question\", \"options\": {\"a\": \"choice here\", \"b\": \"choice here\", \"c\": \"choice here\", \"d\": \"choice here\"}, \"correct\": \"correct answer\"}, \"3\": {\"mcq\": \"multiple choice question\", \"options\": {\"a\": \"choice here\", \"b\": \"choice here\", \"c\": \"choice here\", \"d\": \"choice here\"}, \"correct\": \"correct answer\"}}\n",
      "\u001b[0m\n"
     ]
    },
    {
     "name": "stderr",
     "output_type": "stream",
     "text": [
      "Error in StdOutCallbackHandler.on_chain_start callback: AttributeError(\"'NoneType' object has no attribute 'get'\")\n"
     ]
    },
    {
     "name": "stdout",
     "output_type": "stream",
     "text": [
      "\n",
      "\u001b[1m> Finished chain.\u001b[0m\n",
      "Prompt after formatting:\n",
      "\u001b[32;1m\u001b[1;3m\n",
      "Text:Heating, ventilation, and air conditioning (HVAC /ˈeɪtʃˌvæk/) is the use of various technologies to control the temperature, humidity, and purity of the air in an enclosed space. Its goal is to provide thermal comfort and acceptable indoor air quality. HVAC system design is a subdiscipline of mechanical engineering, based on the principles of thermodynamics, fluid mechanics, and heat transfer. \"Refrigeration\" is sometimes added to the field's abbreviation as HVAC&R or HVACR, or \"ventilation\" is dropped, as in HACR (as in the designation of HACR-rated circuit breakers).\n",
      "\n",
      "HVAC is an important part of residential structures such as single family homes, apartment buildings, hotels, and senior living facilities; medium to large industrial and office buildings such as skyscrapers and hospitals; vehicles such as cars, trains, airplanes, ships and submarines; and in marine environments, where safe and healthy building conditions are regulated with respect to temperature and humidity, using fresh air from outdoors.\n",
      "\n",
      "Ventilating or ventilation (the \"V\" in HVAC) is the process of exchanging or replacing air in any space to provide high indoor air quality which involves temperature control, oxygen replenishment, and removal of moisture, odors, smoke, heat, dust, airborne bacteria, carbon dioxide, and other gases. Ventilation removes unpleasant smells and excessive moisture, introduces outside air, and keeps interior air circulating. Building ventilation methods are categorized as mechanical (forced) or natural.\n",
      "You are an expert MCQ maker. Given the above text, it is your job to create a quiz  of 5 multiple choice questions for HVAC students in simple tone. \n",
      "Make sure the questions are not repeated and check all the questions to be conforming the text as well.\n",
      "Make sure to format your response like  RESPONSE_JSON below  and use it as a guide. Ensure to make 5 MCQs\n",
      "### RESPONSE_JSON\n",
      "{\"1\": {\"mcq\": \"multiple choice question\", \"options\": {\"a\": \"choice here\", \"b\": \"choice here\", \"c\": \"choice here\", \"d\": \"choice here\"}, \"correct\": \"correct answer\"}, \"2\": {\"mcq\": \"multiple choice question\", \"options\": {\"a\": \"choice here\", \"b\": \"choice here\", \"c\": \"choice here\", \"d\": \"choice here\"}, \"correct\": \"correct answer\"}, \"3\": {\"mcq\": \"multiple choice question\", \"options\": {\"a\": \"choice here\", \"b\": \"choice here\", \"c\": \"choice here\", \"d\": \"choice here\"}, \"correct\": \"correct answer\"}}\n",
      "\u001b[0m\n",
      "\n",
      "\u001b[1m> Finished chain.\u001b[0m\n",
      "\n",
      "\u001b[1m> Finished chain.\u001b[0m\n"
     ]
    }
   ],
   "source": [
    "# setting up token-usage-tracking\n",
    "\n",
    "with get_openai_callback() as cb:\n",
    "    response = generate_evaluate_chain(\n",
    "        {\n",
    "            \"text\" : text,\n",
    "            \"number\" : number,\n",
    "            \"subject\" : subject,\n",
    "            \"tone\" : tone,\n",
    "            \"response_json\" : json.dumps(RESPONSE_JSON)\n",
    "        }\n",
    "    )"
   ]
  },
  {
   "cell_type": "code",
   "execution_count": 53,
   "id": "328d4b07",
   "metadata": {},
   "outputs": [
    {
     "name": "stdout",
     "output_type": "stream",
     "text": [
      "Total Tokens:1915\n",
      "Prompt Tokens:1106\n",
      "Completion Tokens:809\n",
      "Total Cost:0.017665\n"
     ]
    }
   ],
   "source": [
    "print(f\"Total Tokens:{cb.total_tokens}\")\n",
    "print(f\"Prompt Tokens:{cb.prompt_tokens}\")\n",
    "print(f\"Completion Tokens:{cb.completion_tokens}\")\n",
    "print(f\"Total Cost:{cb.total_cost}\")"
   ]
  },
  {
   "cell_type": "code",
   "execution_count": 58,
   "id": "59150207",
   "metadata": {},
   "outputs": [
    {
     "data": {
      "text/plain": [
       "{'text': 'Heating, ventilation, and air conditioning (HVAC /ˈeɪtʃˌvæk/) is the use of various technologies to control the temperature, humidity, and purity of the air in an enclosed space. Its goal is to provide thermal comfort and acceptable indoor air quality. HVAC system design is a subdiscipline of mechanical engineering, based on the principles of thermodynamics, fluid mechanics, and heat transfer. \"Refrigeration\" is sometimes added to the field\\'s abbreviation as HVAC&R or HVACR, or \"ventilation\" is dropped, as in HACR (as in the designation of HACR-rated circuit breakers).\\n\\nHVAC is an important part of residential structures such as single family homes, apartment buildings, hotels, and senior living facilities; medium to large industrial and office buildings such as skyscrapers and hospitals; vehicles such as cars, trains, airplanes, ships and submarines; and in marine environments, where safe and healthy building conditions are regulated with respect to temperature and humidity, using fresh air from outdoors.\\n\\nVentilating or ventilation (the \"V\" in HVAC) is the process of exchanging or replacing air in any space to provide high indoor air quality which involves temperature control, oxygen replenishment, and removal of moisture, odors, smoke, heat, dust, airborne bacteria, carbon dioxide, and other gases. Ventilation removes unpleasant smells and excessive moisture, introduces outside air, and keeps interior air circulating. Building ventilation methods are categorized as mechanical (forced) or natural.',\n",
       " 'number': 5,\n",
       " 'subject': 'HVAC',\n",
       " 'tone': 'simple',\n",
       " 'response_json': '{\"1\": {\"mcq\": \"multiple choice question\", \"options\": {\"a\": \"choice here\", \"b\": \"choice here\", \"c\": \"choice here\", \"d\": \"choice here\"}, \"correct\": \"correct answer\"}, \"2\": {\"mcq\": \"multiple choice question\", \"options\": {\"a\": \"choice here\", \"b\": \"choice here\", \"c\": \"choice here\", \"d\": \"choice here\"}, \"correct\": \"correct answer\"}, \"3\": {\"mcq\": \"multiple choice question\", \"options\": {\"a\": \"choice here\", \"b\": \"choice here\", \"c\": \"choice here\", \"d\": \"choice here\"}, \"correct\": \"correct answer\"}}',\n",
       " 'quiz': '```json\\n{\\n  \"1\": {\\n    \"mcq\": \"What does HVAC stand for?\",\\n    \"options\": {\\n      \"a\": \"Heating, Ventilation, and Air Conditioning\",\\n      \"b\": \"Heating, Vacuum, and Air Circulation\",\\n      \"c\": \"Heat, Ventilation, and Air Circulation\",\\n      \"d\": \"Heating, Ventilation, and Air Cleaning\"\\n    },\\n    \"correct\": \"a\"\\n  },\\n  \"2\": {\\n    \"mcq\": \"Which of the following is sometimes added to the HVAC abbreviation?\",\\n    \"options\": {\\n      \"a\": \"Refrigeration\",\\n      \"b\": \"Radiation\",\\n      \"c\": \"Regulation\",\\n      \"d\": \"Rehydration\"\\n    },\\n    \"correct\": \"a\"\\n  },\\n  \"3\": {\\n    \"mcq\": \"What is the main goal of an HVAC system?\",\\n    \"options\": {\\n      \"a\": \"To provide thermal comfort and acceptable indoor air quality\",\\n      \"b\": \"To reduce energy consumption\",\\n      \"c\": \"To increase building security\",\\n      \"d\": \"To improve outdoor air quality\"\\n    },\\n    \"correct\": \"a\"\\n  },\\n  \"4\": {\\n    \"mcq\": \"Which of the following is a building ventilation method mentioned in the text?\",\\n    \"options\": {\\n      \"a\": \"Mechanical (forced)\",\\n      \"b\": \"Electrical\",\\n      \"c\": \"Chemical\",\\n      \"d\": \"Magnetic\"\\n    },\\n    \"correct\": \"a\"\\n  },\\n  \"5\": {\\n    \"mcq\": \"In which environments is HVAC important according to the text?\",\\n    \"options\": {\\n      \"a\": \"Residential structures, vehicles, and marine environments\",\\n      \"b\": \"Only residential structures\",\\n      \"c\": \"Only industrial buildings\",\\n      \"d\": \"Only marine environments\"\\n    },\\n    \"correct\": \"a\"\\n  }\\n}\\n```',\n",
       " 'review': '```json\\n{\\n    \"1\": {\\n        \"mcq\": \"What does HVAC stand for?\",\\n        \"options\": {\\n            \"a\": \"Heating, Ventilation, and Air Conditioning\",\\n            \"b\": \"Heating, Vacuum, and Air Circulation\",\\n            \"c\": \"Heat, Ventilation, and Air Cooling\",\\n            \"d\": \"Humidity, Ventilation, and Air Conditioning\"\\n        },\\n        \"correct\": \"a\"\\n    },\\n    \"2\": {\\n        \"mcq\": \"Which of the following is NOT a part of the HVAC system\\'s goal?\",\\n        \"options\": {\\n            \"a\": \"Providing thermal comfort\",\\n            \"b\": \"Ensuring acceptable indoor air quality\",\\n            \"c\": \"Controlling outdoor air quality\",\\n            \"d\": \"Controlling humidity\"\\n        },\\n        \"correct\": \"c\"\\n    },\\n    \"3\": {\\n        \"mcq\": \"In which environments is HVAC important?\",\\n        \"options\": {\\n            \"a\": \"Only in residential homes\",\\n            \"b\": \"Only in office buildings\",\\n            \"c\": \"In residential, industrial, and marine environments\",\\n            \"d\": \"Only in vehicles\"\\n        },\\n        \"correct\": \"c\"\\n    },\\n    \"4\": {\\n        \"mcq\": \"What is the role of ventilation in HVAC?\",\\n        \"options\": {\\n            \"a\": \"To heat the air\",\\n            \"b\": \"To cool the air\",\\n            \"c\": \"To exchange or replace air to improve indoor air quality\",\\n            \"d\": \"To increase air pressure\"\\n        },\\n        \"correct\": \"c\"\\n    },\\n    \"5\": {\\n        \"mcq\": \"What is sometimes added to the HVAC abbreviation?\",\\n        \"options\": {\\n            \"a\": \"Refrigeration\",\\n            \"b\": \"Radiation\",\\n            \"c\": \"Reinforcement\",\\n            \"d\": \"Reduction\"\\n        },\\n        \"correct\": \"a\"\\n    }\\n}\\n```'}"
      ]
     },
     "execution_count": 58,
     "metadata": {},
     "output_type": "execute_result"
    }
   ],
   "source": [
    "response"
   ]
  },
  {
   "cell_type": "code",
   "execution_count": 56,
   "id": "3fe94c02",
   "metadata": {},
   "outputs": [
    {
     "name": "stdout",
     "output_type": "stream",
     "text": [
      "```json\n",
      "{\n",
      "  \"1\": {\n",
      "    \"mcq\": \"What does HVAC stand for?\",\n",
      "    \"options\": {\n",
      "      \"a\": \"Heating, Ventilation, and Air Conditioning\",\n",
      "      \"b\": \"Heating, Vacuum, and Air Circulation\",\n",
      "      \"c\": \"Heat, Ventilation, and Air Circulation\",\n",
      "      \"d\": \"Heating, Ventilation, and Air Cleaning\"\n",
      "    },\n",
      "    \"correct\": \"a\"\n",
      "  },\n",
      "  \"2\": {\n",
      "    \"mcq\": \"Which of the following is sometimes added to the HVAC abbreviation?\",\n",
      "    \"options\": {\n",
      "      \"a\": \"Refrigeration\",\n",
      "      \"b\": \"Radiation\",\n",
      "      \"c\": \"Regulation\",\n",
      "      \"d\": \"Rehydration\"\n",
      "    },\n",
      "    \"correct\": \"a\"\n",
      "  },\n",
      "  \"3\": {\n",
      "    \"mcq\": \"What is the main goal of an HVAC system?\",\n",
      "    \"options\": {\n",
      "      \"a\": \"To provide thermal comfort and acceptable indoor air quality\",\n",
      "      \"b\": \"To reduce energy consumption\",\n",
      "      \"c\": \"To increase building security\",\n",
      "      \"d\": \"To improve outdoor air quality\"\n",
      "    },\n",
      "    \"correct\": \"a\"\n",
      "  },\n",
      "  \"4\": {\n",
      "    \"mcq\": \"Which of the following is a building ventilation method mentioned in the text?\",\n",
      "    \"options\": {\n",
      "      \"a\": \"Mechanical (forced)\",\n",
      "      \"b\": \"Electrical\",\n",
      "      \"c\": \"Chemical\",\n",
      "      \"d\": \"Magnetic\"\n",
      "    },\n",
      "    \"correct\": \"a\"\n",
      "  },\n",
      "  \"5\": {\n",
      "    \"mcq\": \"In which environments is HVAC important according to the text?\",\n",
      "    \"options\": {\n",
      "      \"a\": \"Residential structures, vehicles, and marine environments\",\n",
      "      \"b\": \"Only residential structures\",\n",
      "      \"c\": \"Only industrial buildings\",\n",
      "      \"d\": \"Only marine environments\"\n",
      "    },\n",
      "    \"correct\": \"a\"\n",
      "  }\n",
      "}\n",
      "```\n"
     ]
    }
   ],
   "source": [
    "print(quiz)"
   ]
  },
  {
   "cell_type": "code",
   "execution_count": 69,
   "id": "02ca5216",
   "metadata": {},
   "outputs": [],
   "source": [
    "quiz = quiz.strip()\n",
    "\n",
    "# Remove Markdown code block if present\n",
    "if quiz.startswith(\"```json\"):\n",
    "    quiz = quiz[7:]  # remove the ```json\n",
    "if quiz.endswith(\"```\"):\n",
    "    quiz = quiz[:-3]  # remove the trailing ```\n",
    "\n"
   ]
  },
  {
   "cell_type": "code",
   "execution_count": 70,
   "id": "e506a445",
   "metadata": {},
   "outputs": [
    {
     "data": {
      "text/plain": [
       "'\\n{\\n  \"1\": {\\n    \"mcq\": \"What does HVAC stand for?\",\\n    \"options\": {\\n      \"a\": \"Heating, Ventilation, and Air Conditioning\",\\n      \"b\": \"Heating, Vacuum, and Air Circulation\",\\n      \"c\": \"Heat, Ventilation, and Air Circulation\",\\n      \"d\": \"Heating, Ventilation, and Air Cleaning\"\\n    },\\n    \"correct\": \"a\"\\n  },\\n  \"2\": {\\n    \"mcq\": \"Which of the following is sometimes added to the HVAC abbreviation?\",\\n    \"options\": {\\n      \"a\": \"Refrigeration\",\\n      \"b\": \"Radiation\",\\n      \"c\": \"Regulation\",\\n      \"d\": \"Rehydration\"\\n    },\\n    \"correct\": \"a\"\\n  },\\n  \"3\": {\\n    \"mcq\": \"What is the main goal of an HVAC system?\",\\n    \"options\": {\\n      \"a\": \"To provide thermal comfort and acceptable indoor air quality\",\\n      \"b\": \"To reduce energy consumption\",\\n      \"c\": \"To increase building security\",\\n      \"d\": \"To improve outdoor air quality\"\\n    },\\n    \"correct\": \"a\"\\n  },\\n  \"4\": {\\n    \"mcq\": \"Which of the following is a building ventilation method mentioned in the text?\",\\n    \"options\": {\\n      \"a\": \"Mechanical (forced)\",\\n      \"b\": \"Electrical\",\\n      \"c\": \"Chemical\",\\n      \"d\": \"Magnetic\"\\n    },\\n    \"correct\": \"a\"\\n  },\\n  \"5\": {\\n    \"mcq\": \"In which environments is HVAC important according to the text?\",\\n    \"options\": {\\n      \"a\": \"Residential structures, vehicles, and marine environments\",\\n      \"b\": \"Only residential structures\",\\n      \"c\": \"Only industrial buildings\",\\n      \"d\": \"Only marine environments\"\\n    },\\n    \"correct\": \"a\"\\n  }\\n}\\n'"
      ]
     },
     "execution_count": 70,
     "metadata": {},
     "output_type": "execute_result"
    }
   ],
   "source": [
    "quiz"
   ]
  },
  {
   "cell_type": "code",
   "execution_count": 66,
   "id": "410d68c9",
   "metadata": {},
   "outputs": [],
   "source": [
    "quiz = response.get(\"quiz\")"
   ]
  },
  {
   "cell_type": "code",
   "execution_count": 71,
   "id": "a3483d02",
   "metadata": {},
   "outputs": [],
   "source": [
    "quiz = json.loads(quiz)"
   ]
  },
  {
   "cell_type": "code",
   "execution_count": 73,
   "id": "846ef8f5",
   "metadata": {},
   "outputs": [],
   "source": [
    "quiz_table_data = []\n",
    "for key,value in quiz.items():\n",
    "    mcq=value[\"mcq\"]\n",
    "    options = \" | \".join(\n",
    "        [\n",
    "            f\"{option} : {option_value}\"\n",
    "            for option, option_value in value[\"options\"].items()\n",
    "        ]\n",
    "    )\n",
    "    correct = value[\"correct\"]\n",
    "    quiz_table_data.append(\n",
    "        {\n",
    "            \"MCQ\": mcq,\n",
    "            \"Options\": options,\n",
    "            \"Correct\": correct\n",
    "        }\n",
    "    )"
   ]
  },
  {
   "cell_type": "code",
   "execution_count": 74,
   "id": "639b88fd",
   "metadata": {},
   "outputs": [
    {
     "data": {
      "text/plain": [
       "[{'MCQ': 'What does HVAC stand for?',\n",
       "  'Options': 'a : Heating, Ventilation, and Air Conditioning | b : Heating, Vacuum, and Air Circulation | c : Heat, Ventilation, and Air Circulation | d : Heating, Ventilation, and Air Cleaning',\n",
       "  'Correct': 'a'},\n",
       " {'MCQ': 'Which of the following is sometimes added to the HVAC abbreviation?',\n",
       "  'Options': 'a : Refrigeration | b : Radiation | c : Regulation | d : Rehydration',\n",
       "  'Correct': 'a'},\n",
       " {'MCQ': 'What is the main goal of an HVAC system?',\n",
       "  'Options': 'a : To provide thermal comfort and acceptable indoor air quality | b : To reduce energy consumption | c : To increase building security | d : To improve outdoor air quality',\n",
       "  'Correct': 'a'},\n",
       " {'MCQ': 'Which of the following is a building ventilation method mentioned in the text?',\n",
       "  'Options': 'a : Mechanical (forced) | b : Electrical | c : Chemical | d : Magnetic',\n",
       "  'Correct': 'a'},\n",
       " {'MCQ': 'In which environments is HVAC important according to the text?',\n",
       "  'Options': 'a : Residential structures, vehicles, and marine environments | b : Only residential structures | c : Only industrial buildings | d : Only marine environments',\n",
       "  'Correct': 'a'}]"
      ]
     },
     "execution_count": 74,
     "metadata": {},
     "output_type": "execute_result"
    }
   ],
   "source": [
    "quiz_table_data"
   ]
  },
  {
   "cell_type": "code",
   "execution_count": 75,
   "id": "3742753b",
   "metadata": {},
   "outputs": [],
   "source": [
    "quiz=pd.DataFrame(quiz_table_data)"
   ]
  },
  {
   "cell_type": "code",
   "execution_count": 76,
   "id": "3ee0a01e",
   "metadata": {},
   "outputs": [],
   "source": [
    "quiz.to_csv(\"HVAC.csv\", index=False)"
   ]
  },
  {
   "cell_type": "code",
   "execution_count": null,
   "id": "e47cb990",
   "metadata": {},
   "outputs": [],
   "source": []
  }
 ],
 "metadata": {
  "kernelspec": {
   "display_name": "Python 3",
   "language": "python",
   "name": "python3"
  },
  "language_info": {
   "codemirror_mode": {
    "name": "ipython",
    "version": 3
   },
   "file_extension": ".py",
   "mimetype": "text/x-python",
   "name": "python",
   "nbconvert_exporter": "python",
   "pygments_lexer": "ipython3",
   "version": "3.8.20"
  }
 },
 "nbformat": 4,
 "nbformat_minor": 5
}
